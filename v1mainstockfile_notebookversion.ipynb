{
 "cells": [
  {
   "cell_type": "code",
   "execution_count": 54,
   "metadata": {},
   "outputs": [
    {
     "name": "stderr",
     "output_type": "stream",
     "text": [
      "Using TensorFlow backend.\n"
     ]
    }
   ],
   "source": [
    "# Author: Roshan Ram\n",
    "# AndrewID: rram\n",
    "# important note: \n",
    "#         graphics framework credit: http://www.cs.cmu.edu/~112/schedule.html\n",
    "#         module_manager credit: http://www.cs.cmu.edu/~112/schedule.html\n",
    "\n",
    "\n",
    "from cmu_112_graphics import *\n",
    "import yfinance as yfinance\n",
    "\n",
    "import module_manager\n",
    "module_manager.review()\n",
    "\n",
    "import yfinance as yf # to pull stock data with yf.download(name, yyyy-mm-dd of opening, yyyy-mm-dd of opening)\n",
    "\n",
    "import numpy as np # used for everything lol\n",
    "import pandas as pd # data mainpulation\n",
    "import matplotlib.pyplot as plt # graphing/plotting\n",
    "\n",
    "# %matplotlib inline < --- not working for modes_and_UI.py for some reason\n",
    "\n",
    "#just to make stuff look nice"
   ]
  },
  {
   "cell_type": "code",
   "execution_count": 9,
   "metadata": {},
   "outputs": [],
   "source": [
    "#jupyter version\n",
    "\n",
    "# def getData():\n",
    "#     stock = None\n",
    "# #     while not isinstance(stock, str):\n",
    "#     stock = input(\"Enter your desired stock. Only alphanumeric characters please.\")\n",
    "#     openingInp = input(\"Enter your desired opening date. (yyyy-mm-dd)\") #'2016-01-01'\n",
    "#     closingInp = input(\"Enter your desired closing date. (yyyy-mm-dd)\") # '2019-08-01'\n",
    "\n",
    "\n",
    "#     data = yf.download(stock, openingInp, closingInp)\n",
    "#     return data, stock \n",
    "\n",
    "\n",
    "\n",
    "# TP A THON NOTE:\n",
    "# give instructions on what kind of input to give\n",
    "# or link to wbsite with stock names\n",
    "\n",
    "\n",
    "# vscode UI version\n",
    "\n",
    "def getData(app):\n",
    "    stock = None\n",
    "#     while not isinstance(stock, str):\n",
    "    stock = app.getUserInput(\"Enter your desired stock. Only alphanumeric characters please.\")\n",
    "    openingInp = app.getUserInput(\"Enter your desired opening date. (yyyy-mm-dd)\") #'2016-01-01'\n",
    "    closingInp = app.getUserInput(\"Enter your desired closing date. (yyyy-mm-dd)\") # '2019-08-01'\n",
    "\n",
    "\n",
    "    data = yf.download(stock, openingInp, closingInp)\n",
    "    return data, stock \n",
    "\n",
    "# data, stock = getData()\n"
   ]
  },
  {
   "cell_type": "code",
   "execution_count": 10,
   "metadata": {},
   "outputs": [
    {
     "name": "stdout",
     "output_type": "stream",
     "text": [
      "Enter your desired stock. Only alphanumeric characters please.AAPL\n",
      "Enter your desired opening date. (yyyy-mm-dd)2016-08-01\n",
      "Enter your desired closing date. (yyyy-mm-dd)2019-01-01\n",
      "[*********************100%***********************]  1 of 1 completed\n"
     ]
    }
   ],
   "source": [
    "# data, stock = getData()"
   ]
  },
  {
   "cell_type": "code",
   "execution_count": 11,
   "metadata": {},
   "outputs": [],
   "source": [
    "# data = calcMA(data, 5, 'simple')"
   ]
  },
  {
   "cell_type": "code",
   "execution_count": 12,
   "metadata": {
    "scrolled": true
   },
   "outputs": [],
   "source": [
    "# data.head() #let's see what the data looks like\n",
    "# # so we have the data, opening price, high val, low val, closing price, \n",
    "# # adjusted close, and volume as parameters of our data"
   ]
  },
  {
   "cell_type": "code",
   "execution_count": 13,
   "metadata": {},
   "outputs": [],
   "source": [
    "def showStock():\n",
    "    print(f\"here's what {stock} looks like:\")\n",
    "    plt.rcParams[\"figure.figsize\"] = (20,10)\n",
    "    data['Close'].plot()\n",
    "    plt.show()"
   ]
  },
  {
   "cell_type": "code",
   "execution_count": 14,
   "metadata": {},
   "outputs": [],
   "source": [
    "# commodity channel index (CCI) algorithm\n",
    "# mathematical calculation: https://www.investopedia.com/terms/c/commoditychannelindex.asp\n",
    "# CCI = (Typical price – MA of Typical price) / (0.015 * Standard deviation of Typical price)\n",
    "def calcCCI(data, numDays):\n",
    "    movingAverageSum = 0\n",
    "    typicalPrice = (data['Low'] + data['High'] + data['Close'])/3\n",
    "#     for row in range(len(data['Low'])-30):\n",
    "#         for i in range(30):\n",
    "#             movingAverageSum += \n",
    "    top = typicalPrice - pd.Series(typicalPrice).rolling(window=numDays).mean()\n",
    "    bottom = pd.Series(0.015 * pd.Series(typicalPrice).rolling(window=numDays).std())\n",
    "    cci = pd.Series(top/bottom, name = 'CCI')\n",
    "    data = data.join(cci)\n",
    "    return data"
   ]
  },
  {
   "cell_type": "code",
   "execution_count": 15,
   "metadata": {},
   "outputs": [],
   "source": [
    "# calcCCI(data, 30).head()"
   ]
  },
  {
   "cell_type": "code",
   "execution_count": 16,
   "metadata": {},
   "outputs": [],
   "source": [
    "def showCCI(data, numDays):\n",
    "    cci = calcCCI(data, numDays)['CCI']\n",
    "    fig = plt.figure(figsize=(7,5))\n",
    "    ax = fig.add_subplot(2, 1, 1)\n",
    "    ax.set_xticklabels([])\n",
    "    plt.plot(data['Close'],lw=1)\n",
    "    plt.title('NSE Price Chart')\n",
    "    plt.ylabel('Close Price')\n",
    "    plt.grid(True)\n",
    "    bx = fig.add_subplot(2, 1, 2)\n",
    "    plt.plot(cci,'k',lw=0.75,linestyle='-',label='CCI')\n",
    "    plt.legend(loc=2,prop={'size':9.5})\n",
    "    plt.ylabel('CCI values')\n",
    "    plt.grid(True)\n",
    "    plt.setp(plt.gca().get_xticklabels(), rotation=30)\n",
    "    plt.show()\n",
    "    "
   ]
  },
  {
   "cell_type": "code",
   "execution_count": 17,
   "metadata": {},
   "outputs": [],
   "source": [
    "# showCCI(data, 30)"
   ]
  },
  {
   "cell_type": "code",
   "execution_count": 18,
   "metadata": {},
   "outputs": [],
   "source": [
    "def rollingAverage(data, numDays):\n",
    "    total = [0]\n",
    "    movingAverages = []\n",
    "    for i, x in enumerate(data, 1):\n",
    "        total.append(total[i-1] + x)\n",
    "        if i >= numDays:\n",
    "            currMovingAverage = (total[i] - total[i - numDays])/numDays\n",
    "            movingAverages.append(currMovingAverage)\n",
    "    \n",
    "    return pd.Series(movingAverages)"
   ]
  },
  {
   "cell_type": "code",
   "execution_count": null,
   "metadata": {},
   "outputs": [],
   "source": []
  },
  {
   "cell_type": "code",
   "execution_count": 19,
   "metadata": {},
   "outputs": [],
   "source": [
    "#exponential calculation:\n",
    "    # https://www.investopedia.com/ask/answers/122314/what-exponential-moving-average-ema-formula-and-how-ema-calculated.asp\n",
    "def calcMA(data, numDays, calcType):\n",
    "    '''\n",
    "    calculates the moving average\n",
    "    data: the data you want to use\n",
    "    numDays: number of days to perform the average over\n",
    "    calcType: the type of average to be done--\n",
    "    '''\n",
    "    if calcType == 'simple':\n",
    "        simple = pd.Series(pd.Series(data['Close']).rolling(window=numDays).mean(), name='SMA')\n",
    "#         pd.Series(typicalPrice).rolling(window=numDays).mean()\n",
    "        data = data.join(simple)\n",
    "        return data\n",
    "    elif calcType == 'exponential':\n",
    "#         exp = pd.Series(pd.ewma(data['Close'], span = numDays, min_periods = numDays))\n",
    "        exp = data.ewm(span = numDays, min_periods = numDays, adjust=False).mean() # todo this doesn't work, just rewrite real way\n",
    "        \n",
    "        data = data.join(exp)\n",
    "        return data\n",
    "    else:\n",
    "        raise Exception(\"Type of moving average calculation unspecified... please choose either 'simple' or 'exponential'\")\n",
    "    \n"
   ]
  },
  {
   "cell_type": "code",
   "execution_count": 20,
   "metadata": {},
   "outputs": [],
   "source": [
    "# def stochasticK(close, low, high, n):  \n",
    "#     STOK = ((close - pd.rolling_min(low, n)) / (pd.rolling_max(high, n) - pd.rolling_min(low, n))) * 100\n",
    "#     return STOK\n",
    "\n",
    "# def stochasticD(close, low, high, n):\n",
    "#     STOK = ((close - pd.rolling_min(low, n)) / (pd.rolling_max(high, n) - pd.rolling_min(low, n))) * 100\n",
    "#     STOD = pd.rolling_mean(STOK, 3)\n",
    "#     return STOD\n",
    "   \n",
    "# df = pd.DataFrame(get_stock('FB', '1/1/2016', '12/31/2016'))\n",
    "# df['High'] = get_high('FB', '1/1/2016', '12/31/2016')\n",
    "# df['Low'] = get_low('FB', '1/1/2016', '12/31/2016')\n",
    "# df['%K'] = STOK(df['Close'], df['Low'], df['High'], 14)\n",
    "# df['%D'] = STOD(df['Close'], df['Low'], df['High'], 14)\n",
    "# df.tail()"
   ]
  },
  {
   "cell_type": "code",
   "execution_count": 21,
   "metadata": {},
   "outputs": [],
   "source": [
    "# ease of movement: \n",
    "def EVM(data, numDays): \n",
    " distMoved = ((data['High'] + data['Low'])/2) - ((data['High'].shift(1) + data['Low'].shift(1))/2)\n",
    " boxRatio = (data['Volume'] / 100000000) / ((data['High'] - data['Low']))\n",
    " evm = distMoved/boxRatio\n",
    " evmMA = pd.Series(rollingMean(evm, numDays), name = 'EVM') \n",
    " data = data.join(evmMA) \n",
    " return data "
   ]
  },
  {
   "cell_type": "code",
   "execution_count": 22,
   "metadata": {},
   "outputs": [],
   "source": [
    "def calcRSI(data, n): # todo fixup\n",
    "    highList = []\n",
    "    lowList = []\n",
    "    pastDays = data[1:n-1]\n",
    "    x = 0\n",
    "    for i in pastDays:\n",
    "        if len(pastDays)-1 >= x+1:\n",
    "            if pastDays[x+1] > pastDays[x]:\n",
    "                high = pastDays[x+1] - pastDays[x]\n",
    "                highList.append(high)\n",
    "\n",
    "            elif pastDays[x+1] < pastDays[x]:\n",
    "                low = pastDays[x] - pastDays[x+1]\n",
    "                lowList.append(low)\n",
    "        x+=1\n",
    "\n",
    "    up   = np.sum(highList)/len(highList)\n",
    "    down = np.sum(lowList)/len(lowList)\n",
    "    RS = up/down\n",
    "    RSI = 100 - (100/(1+RS))\n",
    "\n",
    "    print(RSI)"
   ]
  },
  {
   "cell_type": "code",
   "execution_count": 23,
   "metadata": {},
   "outputs": [],
   "source": [
    "# average directional movement (adm): https://www.tradingtechnologies.com/xtrader-help/x-study/technical-indicator-definitions/average-directional-movement-adx/\n",
    "\n",
    "def advi(df, n, n_ADX):\n",
    "    pass"
   ]
  },
  {
   "cell_type": "code",
   "execution_count": 24,
   "metadata": {},
   "outputs": [],
   "source": [
    "def stochasticK(df):\n",
    "    \"\"\"Calculate stochastic oscillator %K for given data.\n",
    "    input: pandas DataFrame\n",
    "    output: pandas DataFrame\n",
    "    \"\"\"\n",
    "    stochK = pd.Series((df['Close'] - df['Low']) / (df['High'] - df['Low']), name='stochastic %K')\n",
    "    df = df.join(stochK)\n",
    "    return df"
   ]
  },
  {
   "cell_type": "code",
   "execution_count": 25,
   "metadata": {},
   "outputs": [],
   "source": [
    "def stochasticD(df, numDays):\n",
    "    \"\"\"Calculate stochastic oscillator %D for given data.\n",
    "    input: pandas DataFrame\n",
    "    output: pandas DataFrame\n",
    "    \"\"\"\n",
    "    stochK = pd.Series((df['Close'] - df['Low']) / (df['High'] - df['Low']), name='stochastic %K')\n",
    "    stochD = pd.Series(stochK.ewm(span=numDays, min_periods=numDays).mean(), name=f'stochastic %D, {str(numDays)} days') # todo: rewrite ewm manually\n",
    "    df = df.join(stochD)\n",
    "    return df"
   ]
  },
  {
   "cell_type": "code",
   "execution_count": 26,
   "metadata": {},
   "outputs": [],
   "source": [
    "# stochasticK(data).head()"
   ]
  },
  {
   "cell_type": "code",
   "execution_count": 27,
   "metadata": {},
   "outputs": [],
   "source": [
    "# stochasticD(data, 20).head()"
   ]
  },
  {
   "cell_type": "code",
   "execution_count": 28,
   "metadata": {},
   "outputs": [],
   "source": [
    "# rate of change (roc): https://www.investopedia.com/terms/p/pricerateofchange.asp\n",
    "def roc(data, n):\n",
    "    '''\n",
    "    \"a momentum-based technical indicator that measures the \n",
    "    percentage change in price between the current price and \n",
    "    the price a certain number of periods ago. The ROC indicator\n",
    "    is plotted against zero, with the indicator moving upwards into \n",
    "    positive territory if price changes are to the upside, and moving \n",
    "    into negative territory if price changes are to the downside.\"\n",
    "    '''\n",
    "    roc = 100 * ((close - close.shift(n)) / close.shift(n))\n",
    "    if fillna:\n",
    "        roc = roc.replace([np.inf, -np.inf], np.nan).fillna(0)\n",
    "    return pd.Series(roc, name='ROC')"
   ]
  },
  {
   "cell_type": "code",
   "execution_count": 29,
   "metadata": {},
   "outputs": [],
   "source": [
    "# bollinger bands (bb): https://traderhq.com/ultimate-guide-to-bollinger-bands/\n",
    "def showbolBands(data, n):\n",
    "    # Calculate n-Day Moving Average, Std Deviation, Upper Band and Lower Band\n",
    "    data['MA'] = data['Adj Close'].rolling(window=n).mean()\n",
    "    data['STD'] = data['Adj Close'].rolling(window=n).std()\n",
    "    data['UpperBand'] = data['MA'] + (data['STD'] * 2)\n",
    "    data['LowerBand'] = data['MA'] - (data['STD'] * 2)\n",
    "\n",
    "    # Simple 30 Day Bollinger Band for Facebook (2016-2017)\n",
    "#     stock[pd.DataFrame('Adj Close', '30 Day MA', 'Upper Band', 'Lower Band')].plot(figsize=(12,6))\n",
    "    data['Adj Close'].plot(figsize=(12,6))\n",
    "    data['MA'].plot(figsize=(12,6))\n",
    "    data['UpperBand'].plot(figsize=(12,6))\n",
    "    data['LowerBand'].plot(figsize=(12,6))\n",
    "    plt.title(f'{n} Day Bollinger Band for AAPL')\n",
    "    plt.ylabel('Price (USD)')\n",
    "    \n",
    "    \n",
    "    # fill inbetween\n",
    "#     plt.fill_between(x_axis, fb['Upper Band'], fb['Lower Band'], color='grey')\n",
    "\n",
    "    \n",
    "    plt.show();"
   ]
  },
  {
   "cell_type": "code",
   "execution_count": 30,
   "metadata": {},
   "outputs": [],
   "source": [
    "# calcbolBands(data, 20)"
   ]
  },
  {
   "cell_type": "code",
   "execution_count": 31,
   "metadata": {},
   "outputs": [],
   "source": [
    "# data.head()"
   ]
  },
  {
   "cell_type": "code",
   "execution_count": 32,
   "metadata": {},
   "outputs": [],
   "source": [
    "# from datetime import *\n",
    "# # remap indices with respect to the first date, in days\n",
    "\n",
    "# # https://stackoverflow.com/questions/1345827/how-do-i-find-the-time-difference-between-two-datetime-objects-in-python\n",
    "\n",
    "# def daysFromSecs(seconds = None):\n",
    "#       return divmod(seconds if seconds != None else duration_in_s, 86400) # Seconds in a day = 86400\n",
    "\n",
    "# # start = data.index.values[0]\n",
    "# # for i in range(len(data.index.values)):\n",
    "# #     print(daysFromSecs(int(data.index.values[i+1]) - int(data.index.values[i])))"
   ]
  },
  {
   "cell_type": "code",
   "execution_count": 33,
   "metadata": {},
   "outputs": [],
   "source": [
    "# data.index.values[:20]"
   ]
  },
  {
   "cell_type": "code",
   "execution_count": 34,
   "metadata": {},
   "outputs": [],
   "source": [
    "\n",
    "\n",
    "\n",
    "# example of simple linear regression\n",
    "from math import sqrt\n",
    "\n",
    "# calculate rmse\n",
    "def calcRMSE(actual, predicted):\n",
    "    sum_error = 0.0\n",
    "    for i in range(len(actual)):\n",
    "        prediction_error = predicted[i] - actual[i]\n",
    "        sum_error += (prediction_error ** 2)\n",
    "    mean_error = sum_error / float(len(actual))\n",
    "    return sqrt(mean_error)\n",
    "\n",
    "# evaluate reg algorithm\n",
    "def testAlgo(dataset, algorithm):\n",
    "    testSet = list()\n",
    "    for row in dataset:\n",
    "        copiedRow = list(row)\n",
    "        copiedRow[-1] = None\n",
    "        testSet.append(copiedRow)\n",
    "    predicted = algorithm(dataset, testSet)\n",
    "    #     print(predicted, '\\n'*10)\n",
    "    actual = [row[-1] for row in dataset]\n",
    "    rmse = calcRMSE(actual, predicted)\n",
    "    return (predicted, rmse)\n",
    "\n",
    "# calc mean val of a list\n",
    "def calcMean(values):\n",
    "    return np.sum(values) / float(len(values))\n",
    "\n",
    "# calc covariance given x and y\n",
    "def calcCovariance(x, mean_x, y, mean_y):\n",
    "    covar = 0.0\n",
    "    for i in range(len(x)):\n",
    "        covar += (x[i] - mean_x) * (y[i] - mean_y)\n",
    "    return covar\n",
    "\n",
    "# calc variance of a list of #s\n",
    "def calcVariance(values, mean):\n",
    "    return sum([(x - mean) ** 2 for x in values])\n",
    "\n",
    "# calc cfs\n",
    "def calcCoeffs(dataset):\n",
    "    x = [row[0] for row in dataset]\n",
    "    y = [row[1] for row in dataset]\n",
    "    meanX, meanY = calcMean(x), calcMean(y)\n",
    "    b1 = calcCovariance(x, meanX, y, meanY) / calcVariance(x, meanX)\n",
    "    b0 = meanY - b1 * meanX\n",
    "    return [b0, b1]\n",
    "\n",
    "# slr algo\n",
    "def slr(train, test):\n",
    "    predictions = list()\n",
    "    b0, b1 = calcCoeffs(train)\n",
    "    for row in test:\n",
    "        yhat = b0 + b1 * row[0]\n",
    "        predictions.append(yhat)\n",
    "    return predictions\n",
    "\n",
    "\n",
    "# IMPORTANT::::: #########################################\n",
    "\n",
    "# closeData = data['Close']\n",
    "# timeData = list(range(len(data.index.values) + 1))\n",
    "# newData = []\n",
    "# for i in range(len(closeData)):\n",
    "#     newData.append([timeData[i], closeData[i]])\n",
    "    \n",
    "# END IMPORTANT ::::::: #################################\n",
    "\n",
    "\n",
    "\n",
    "# closeData = pd.Series(closeData)\n",
    "# newData\n",
    "# slr()\n",
    "\n",
    "# IMPORTANT::::: #########################################\n",
    "# predictions, rmse = testAlgo(newData, slr)\n",
    "# END IMPORTANT ::::::: #################################\n",
    "\n",
    "\n",
    "\n",
    "\n",
    "# thus, we can see that our rmse is about 16.078 points away\n",
    "\n",
    "# predictions, rmse = \n",
    "# def plotPredictions(): # todo implement predictions\n",
    "# predictions\n",
    "# for i in range(len(predictions)):\n",
    "# plt.plot(pd.Series(predictions))\n"
   ]
  },
  {
   "cell_type": "code",
   "execution_count": 35,
   "metadata": {},
   "outputs": [],
   "source": [
    "# closeData = data['Close']\n",
    "# timeData = list(range(len(data.index.values) + 1))\n",
    "# newData = [ ]\n",
    "# for i in range(len(closeData)):\n",
    "#     newData.append([timeData[i], closeData[i]])\n",
    "    \n",
    "    \n",
    "# # closeData = pd.Series(closeData)\n",
    "# # newData\n",
    "# # simple_linear_regression()\n",
    "\n",
    "# predictions, rmse = testAlgo(newData, slr)\n",
    "\n",
    "\n",
    "\n",
    "\n",
    "\n",
    "\n",
    "\n",
    "# # testData = []\n",
    "\n",
    "\n",
    "# # predictions = simple_linear_regression(newData, )\n",
    "\n",
    "\n",
    "# # thus, we can see that our rmse is about 16.078 points away \n",
    "\n",
    "# # simple_linear_regression(data['Close'])\n",
    "# # print(f'Predicted: {predictions}', '\\n'*5)\n",
    "# # print('RMSE: %.3f' % (rmse))\n",
    "    \n",
    "\n",
    "\n",
    "\n"
   ]
  },
  {
   "cell_type": "code",
   "execution_count": 36,
   "metadata": {},
   "outputs": [],
   "source": [
    "# # data.index.values[-1]\n",
    "# data['Close']['2019-08-01T00:00:00.000000000':'2019-08-05T00:00:00.000000000']"
   ]
  },
  {
   "cell_type": "code",
   "execution_count": 37,
   "metadata": {},
   "outputs": [],
   "source": [
    "# testSet = [[x, x] for x in range(len(newData), 911)] #starting from last time point PLUS one, we predict until desired \n",
    "# # end point using simple lin reg\n",
    "# # testSet\n",
    "# newPreds = slr(newData, testSet)\n",
    "# print(newPreds)\n",
    "\n",
    "def returnPreds(data, numDaysToPredict):\n",
    "    # assuming preds is a list\n",
    "    #starting from last time point PLUS one, we predict until desired^\n",
    "    closeData = data['Close']\n",
    "    timeData = list(range(len(data.index.values) + 1))\n",
    "    newData = [ ]\n",
    "    for i in range(len(closeData)):\n",
    "        newData.append([timeData[i], closeData[i]])\n",
    "        \n",
    "        \n",
    "    test = [[x, x] for x in range(len(newData), len(newData)+numDaysToPredict)] \n",
    "    \n",
    "    preds = slr(newData, test)\n",
    "#     return list(enumerate(preds))\n",
    "    return pd.Series(preds)\n",
    "\n",
    "def plotPreds(data, numDaysToPredict):\n",
    "    preds = returnPreds(data, numDaysToPredict)\n",
    "#     plt.plot(preds)\n",
    "    plt.scatter(preds.index.values, preds.values)\n",
    "    plt.plot(preds)\n",
    "    plt.show()\n",
    "    \n",
    "\n",
    "# print(returnPreds(data, 5), '\\n'*3)\n",
    "# print(data['Close'])\n",
    "# plotPreds(data, 5)\n"
   ]
  },
  {
   "cell_type": "code",
   "execution_count": null,
   "metadata": {},
   "outputs": [],
   "source": []
  },
  {
   "cell_type": "code",
   "execution_count": 38,
   "metadata": {},
   "outputs": [],
   "source": [
    "# def plotPredictions(): # todo implement predictions \n",
    "# predictions\n",
    "# plt.plot(pd.Series(predictions))    "
   ]
  },
  {
   "cell_type": "code",
   "execution_count": 39,
   "metadata": {},
   "outputs": [],
   "source": [
    "# mean(data['Close'])"
   ]
  },
  {
   "cell_type": "code",
   "execution_count": 40,
   "metadata": {},
   "outputs": [],
   "source": [
    "from random import seed\n",
    "from random import randrange\n",
    "from csv import reader\n",
    "from math import sqrt\n",
    "\n",
    "\n",
    "def trainTestSplit(data, split): # writing the training-testing set splitting algorithm from scratch\n",
    "    openData = data['Open']\n",
    "    train = list()\n",
    "    trainSize = split * len(openData)\n",
    "    copiedDataList = list(openData)\n",
    "    while len(train) < trainSize:\n",
    "        index = randrange(len(copiedDataList))\n",
    "        train.append(copiedDataList.pop(index))\n",
    "    return train, pd.Series(copiedDataList)\n",
    "    \n",
    "\n",
    "# split dataset into k folds\n",
    "# def cvSplit(dataset, folds=5): # cross-validation split by method of k-fold cross-validation, default # folds is 5\n",
    "#     splitData = list()\n",
    "#     copiedDataList = list(dataset)\n",
    "#     foldGap = int(len(dataset)/folds)\n",
    "#     for _ in range(folds):\n",
    "#         fold = list()\n",
    "#         while len(fold) < foldGap:\n",
    "#             index = randrange(len(copiedDataList))\n",
    "#             fold.append(copiedDataList.pop(index))\n",
    "#         splitData.append(fold)\n",
    "#     return pd.Series(splitData)\n",
    " \n"
   ]
  },
  {
   "cell_type": "code",
   "execution_count": 41,
   "metadata": {},
   "outputs": [],
   "source": [
    "# # multiple linear regression\n",
    "\n",
    "# # Make a prediction with coefficients\n",
    "# def predict(row, coefficients):\n",
    "#     yhat = coefficients[0]\n",
    "#     for i in range(len(row)-1):\n",
    "#         yhat += coefficients[i + 1] * row[i]\n",
    "#     return yhat\n",
    "\n",
    "\n",
    "# # Estimate linear regression coefficients using stochastic gradient descent\n",
    "# def coefficientsStochasticGradientDescent(train, l_rate, n_epoch):\n",
    "#     coef = [0.0 for i in range(len(train[0]))]\n",
    "#     for epoch in range(n_epoch):\n",
    "#         sum_error = 0\n",
    "#         for row in train:\n",
    "#             yhat = predict(row, coef)\n",
    "#             error = yhat - row[-1]\n",
    "#             sum_error += error**2\n",
    "#             coef[0] = coef[0] - l_rate * error\n",
    "#             for i in range(len(row)-1):\n",
    "#                 coef[i + 1] = coef[i + 1] - l_rate * error * row[i]\n",
    "#         print('>epoch=%d, lrate=%.3f, error=%.3f' % (epoch, l_rate, sum_error))\n",
    "#     return coef\n",
    "\n",
    "# notable sources used to interpret and derive these algorithms:\n",
    "# http://faculty.marshall.usc.edu/gareth-james/ISL/ISLR%20Seventh%20Printing.pdf]\n",
    "# http://cs229.stanford.edu/notes/cs229-notes1.pdf. \n",
    "\n",
    "\n",
    "from random import seed\n",
    "from random import randrange\n",
    "from csv import reader\n",
    "from math import sqrt\n",
    "\n",
    "\n",
    "def setupNormalization(dataset):\n",
    "    minmax = list()\n",
    "    for i in range(len(dataset[0])):\n",
    "        colVals = [row[i] for row in dataset]\n",
    "        minVal = min(colVals)\n",
    "        maxVal = max(colVals)\n",
    "        minmax.append([minVal, maxVal])\n",
    "    return minmax\n",
    "\n",
    "# Rescale dataset columns to the range 0-1\n",
    "def normalizeData(dataset, minmax):\n",
    "    for row in dataset:\n",
    "        for i in range(len(row)):\n",
    "            row[i] = (row[i] - minmax[i][0]) / (minmax[i][1] - minmax[i][0])\n",
    "            \n",
    "# split the dataset into k folds based on k-fold cross validation technique\n",
    "def crossValSplit(dataset, n_folds):\n",
    "    dataset_split = list()\n",
    "    dataset_copy = list(dataset)\n",
    "    fold_size = int(len(dataset) / n_folds)\n",
    "    for _ in range(n_folds):\n",
    "        fold = list()\n",
    "        while len(fold) < fold_size:\n",
    "            index = randrange(len(dataset_copy))\n",
    "            fold.append(dataset_copy.pop(index))\n",
    "        dataset_split.append(fold)\n",
    "    return dataset_split\n",
    "\n",
    "# calc the root mean square error [a popular and reliable error metric]\n",
    "def calcRMSE(actual, predicted):\n",
    "    sum_error = 0.0\n",
    "    for i in range(len(actual)):\n",
    "        prediction_error = predicted[i] - actual[i]\n",
    "        sum_error += (prediction_error ** 2)\n",
    "    mean_error = sum_error / float(len(actual))\n",
    "    return sqrt(mean_error)\n",
    "\n",
    "# test and evaluate algo based on predefined metric system\n",
    "def testAlgo(dataset, algorithm, n_folds, *args):\n",
    "    folds = crossValSplit(dataset, n_folds)\n",
    "    scores = list()\n",
    "    for fold in folds:\n",
    "        trainingSet = list(folds)\n",
    "        trainingSet.remove(fold)\n",
    "        trainingSet = sum(trainingSet, [])\n",
    "        testingSet = list()\n",
    "        for row in fold:\n",
    "            row_copy = list(row)\n",
    "            testingSet.append(row_copy)\n",
    "            row_copy[-1] = None\n",
    "        predicted = algorithm(trainingSet, testingSet, *args)\n",
    "        actual = [row[-1] for row in fold]\n",
    "        rmse = calcRMSE(actual, predicted)\n",
    "        scores.append(rmse)\n",
    "    return scores\n",
    "\n",
    "# make a prediction based on predetermined coefficients\n",
    "def predict(row, coefficients):\n",
    "    yhat = coefficients[0]\n",
    "    for i in range(len(row)-1):\n",
    "        yhat += coefficients[i + 1] * row[i]\n",
    "    return yhat\n",
    "\n",
    "# estim lin reg coefs using sgd (stochastic gradient descent)\n",
    "def sgdCoefs(train, l_rate, n_epoch):\n",
    "    coef = [0.0 for i in range(len(train[0]))]\n",
    "    for _ in range(n_epoch):\n",
    "        for row in train:\n",
    "            yhat = predict(row, coef)\n",
    "            error = yhat - row[-1]\n",
    "            coef[0] = coef[0] - l_rate * error\n",
    "            for i in range(len(row)-1):\n",
    "                coef[i + 1] = coef[i + 1] - l_rate * error * row[i]\n",
    "            # print(l_rate, n_epoch, error)\n",
    "    return coef\n",
    "\n",
    "# the meat of it: multiple lin reg algo using sgd [stochastic gradient descent] \n",
    "def multipleLinRegSGD(train, test, l_rate, n_epoch):\n",
    "    predictions = list()\n",
    "    coef = sgdCoefs(train, l_rate, n_epoch)\n",
    "    for row in test:\n",
    "        yhat = predict(row, coef)\n",
    "        predictions.append(yhat)\n",
    "    return(predictions)"
   ]
  },
  {
   "cell_type": "code",
   "execution_count": 42,
   "metadata": {},
   "outputs": [],
   "source": [
    "# for index in range(len(data['MA'])):\n",
    "#     if data['MA'][index] is not float:\n",
    "#         data['MA'][index] = 0\n",
    "# data"
   ]
  },
  {
   "cell_type": "code",
   "execution_count": 43,
   "metadata": {},
   "outputs": [],
   "source": [
    "# dataset = [[1, 1], [2, 3], [4, 3], [3, 2], [5, 5]]\n",
    "# # print(sgdCoefs(dataset, 0.001, 10**5))\n",
    "\n",
    "# def jawnson():\n",
    "#     for valInd in range(len(trainingSet)):\n",
    "#         if len(trainingSet[valInd]) != 3:\n",
    "#             print(\"before:\", trainingSet[valInd-1])\n",
    "#             print(\"this is the bad one:\", trainingSet[valInd])\n",
    "#             print(\"after:\", trainingSet[valInd-1])\n",
    "# #             break\n",
    "#         else:\n",
    "#             print(\"good one:\", trainingSet[valInd])\n",
    "# jawnson()\n",
    "\n",
    "\n"
   ]
  },
  {
   "cell_type": "code",
   "execution_count": 44,
   "metadata": {},
   "outputs": [],
   "source": [
    "# for val in testingSet:\n",
    "#     print(len(val) == 3)"
   ]
  },
  {
   "cell_type": "code",
   "execution_count": 45,
   "metadata": {},
   "outputs": [],
   "source": [
    "# newData\n",
    "# data['SMA']\n",
    "# len(closeData)\n",
    "# trainingSet"
   ]
  },
  {
   "cell_type": "code",
   "execution_count": null,
   "metadata": {},
   "outputs": [],
   "source": []
  },
  {
   "cell_type": "code",
   "execution_count": 46,
   "metadata": {},
   "outputs": [],
   "source": [
    "\n",
    "\n",
    "\n",
    "\n",
    "def createPrediction(data, epochs):\n",
    "    data = calcMA(data, 5, 'simple') # append 5 day simple moving average colum under ['SMA'] to \n",
    "                                     # stock data df using previously written function\n",
    "\n",
    "    closeData = data['Close']\n",
    "    timeData = list(range(len(data.index.values) + 1))\n",
    "    newData = [ ]\n",
    "    # cci = calcCCI(data, 10)['CCI'].values.tolist()\n",
    "\n",
    "    for i in range(len(closeData)):\n",
    "        newData.append([timeData[i], closeData[i]])\n",
    "        if i > 5:\n",
    "            newData[i].append(data['SMA'][i])\n",
    "        else:\n",
    "            newData[i].append(data['Close'][i])\n",
    "\n",
    "\n",
    "    # newData\n",
    "\n",
    "    minmax = setupNormalization(newData)\n",
    "    normalizeData(newData, minmax)\n",
    "\n",
    "\n",
    "\n",
    "\n",
    "    # NAN cleaning:\n",
    "\n",
    "    # for L in newData:\n",
    "    #     for i in range(len(L)):\n",
    "    #         if L[i].isnull():\n",
    "    #             L[i] = 0\n",
    "\n",
    "\n",
    "        #--------\n",
    "\n",
    "    # put the below stuff in a func when making UI [4:46 PM]\n",
    "\n",
    "\n",
    "    n_folds = 5\n",
    "    l_rate = 0.01\n",
    "    n_epoch = 50\n",
    "\n",
    "\n",
    "    folds = crossValSplit(newData, n_folds)\n",
    "    scores = list()\n",
    "    for fold in folds:\n",
    "        trainingSet = list(folds)\n",
    "        trainingSet.remove(fold)\n",
    "        trainingSet = sum(trainingSet, [])\n",
    "        testingSet = list()\n",
    "        for row in fold:\n",
    "            row_copy = list(row)\n",
    "            testingSet.append(row_copy)\n",
    "            row_copy[-1] = None\n",
    "        predicted = multipleLinRegSGD(trainingSet, testingSet, l_rate, n_epoch)\n",
    "        actual = [row[-1] for row in fold]\n",
    "\n",
    "    preds = multipleLinRegSGD(trainingSet, testingSet, l_rate, epochs)\n",
    "    return preds\n",
    "    # testing stuff ####### -------------------------\n",
    "\n",
    "    # for val in trainingSet:\n",
    "    #     for val2 in val:\n",
    "    #         if np.isnan(val2):\n",
    "    #             print(val2)\n",
    "    #             break\n",
    "    #         else:\n",
    "    #             print('this one gucci', val)\n",
    "\n",
    "    # print(sgdCoefs(trainingSet, l_rate, n_epoch))\n",
    "\n",
    "    # coef = [0.0 for i in range(len(trainingSet[0]))]\n",
    "    # for row in trainingSet:\n",
    "    # #     print(row)\n",
    "    #     print(predict(row, coef))\n",
    "\n",
    "    # print(folds)\n",
    "    # print(trainingSet)\n",
    "    # print(testingSet)\n",
    "    # print(predicted)\n",
    "\n",
    "\n",
    "    # end testing stuff ############### --------------\n",
    "\n",
    "    # scores = testAlgo(newData, multipleLinRegSGD, n_folds, l_rate, n_epoch)\n",
    "    # print('Scores: %s' % scores)\n",
    "    # print('Mean RMSE: %.3f' % (sum(scores)/float(len(scores))))\n",
    "\n",
    "\n",
    "    ##### ---- IT WORKED ######## ------------\n",
    "\n",
    "    # convert below to function stuff for UI\n",
    "    # the below is for plotting preds\n",
    "    # PLOTPREDS FUNC\n",
    "\n",
    "    # plottablePreds = [ ]\n",
    "    # for valIndex in range(len(preds)):\n",
    "    #     plottablePreds.append([valIndex, preds[valIndex]])\n",
    "    # pd.Series(plottablePreds)\n",
    "\n",
    "\n",
    "    # plt.plot(pd.Series(preds))\n",
    "def plotPrediction(data, numDays):\n",
    "    # TODO: [11/25 3:33 PM] create function to denormalize prediction data after prediction \n",
    "    # ^basically unsqueeze the data from 0-1 values to original values using this equation\n",
    "    # https://stackoverflow.com/questions/32888108/denormalization-of-predicted-data-in-neural-networks\n",
    "    \n",
    "    \n",
    "    preds = createPrediction(data, 5)\n",
    "#     print(\"ma list:\", calcMAforPlots(preds, 5))\n",
    "#     print(pd.Series(preds))\n",
    "    maPreds = calcMAforPlots(preds, 10)\n",
    "#     plt.plot(pd.Series(preds))\n",
    "    plt.plot(pd.Series(maPreds))\n",
    "    plt.show()"
   ]
  },
  {
   "cell_type": "code",
   "execution_count": 47,
   "metadata": {},
   "outputs": [],
   "source": [
    "def calcMAforPlots(dataList, n):\n",
    "    L = [ ]\n",
    "    for i in range(0, len(dataList)-n+1):\n",
    "        new = (sum(dataList[i:i+n]))/float(n)\n",
    "        L.append(new)\n",
    "    return L"
   ]
  },
  {
   "cell_type": "code",
   "execution_count": 48,
   "metadata": {},
   "outputs": [
    {
     "data": {
      "text/plain": [
       "[1.5, 2.5, 3.5, 4.5]"
      ]
     },
     "execution_count": 48,
     "metadata": {},
     "output_type": "execute_result"
    }
   ],
   "source": [
    "calcMAforPlots([1, 2, 3, 4, 5], 2)"
   ]
  },
  {
   "cell_type": "code",
   "execution_count": 49,
   "metadata": {},
   "outputs": [],
   "source": [
    "# plotPrediction(data, 5)\n",
    "\n"
   ]
  },
  {
   "cell_type": "code",
   "execution_count": 50,
   "metadata": {},
   "outputs": [],
   "source": [
    "def mlrRecommendation(data, numDays, entranceDay, lookAheadDays):\n",
    "    print(f\"here's the prediction trend for the next ~100 days:\")\n",
    "    plotPrediction(data, numDays)\n",
    "    \n",
    "    \n",
    "    preds = createPrediction(data, 5) #this is a bit redundant lol <- clean up later\n",
    "#     print(\"ma list:\", calcMAforPlots(preds, 5))\n",
    "#     print(pd.Series(preds))\n",
    "    maPreds = pd.Series(calcMAforPlots(preds, 10))\n",
    "\n",
    "    if maPreds[entranceDay] < maPreds[entranceDay+lookAheadDays]:\n",
    "        print(\"BUY\")\n",
    "        \n",
    "        print(f\"here's what the plot looks like {lookAheadDays} days from now based on moving average of {numDays} days\")\n",
    "        plt.plot(maPreds[entranceDay:entranceDay+lookAheadDays+1])\n",
    "        plt.show()\n",
    "        \n",
    "    elif maPreds[entranceDay] > maPreds[entranceDay+lookAheadDays]:\n",
    "        \n",
    "        print(\"SELL\")\n",
    "        \n",
    "        print(f\"here's what the plot looks like {lookAheadDays} days from now based on moving average of {numDays} days\")\n",
    "        plt.plot(maPreds[entranceDay:entranceDay+lookAheadDays+1])\n",
    "        plt.show()\n",
    "    else:\n",
    "        print(\"HOLD\")\n",
    "        \n",
    "        print(f\"here's what the plot looks like {lookAheadDays} days from now based on moving average of {numDays} days\")\n",
    "        plt.plot(maPreds[entranceDay:entranceDay+lookAheadDays+1])\n",
    "        plt.show()\n",
    "        \n",
    "        # TODO: MAYBE use pickling to be more efficient? not really related to MLR but for more complex algos\n",
    "        # could be useful to reduce runtime/training time\n",
    "    "
   ]
  },
  {
   "cell_type": "code",
   "execution_count": 51,
   "metadata": {
    "scrolled": true
   },
   "outputs": [
    {
     "name": "stdout",
     "output_type": "stream",
     "text": [
      "here's the prediction trend for the next ~100 days:\n"
     ]
    },
    {
     "data": {
      "image/png": "[encoded data removed]",
      "text/plain": [
       "<Figure size 432x288 with 1 Axes>"
      ]
     },
     "metadata": {
      "needs_background": "light"
     },
     "output_type": "display_data"
    },
    {
     "name": "stdout",
     "output_type": "stream",
     "text": [
      "BUY\n",
      "here's what the plot looks like 5 days from now based on moving average of 5 days\n"
     ]
    },
    {
     "data": {
      "image/png": "[encoded data removed]",
      "text/plain": [
       "<Figure size 432x288 with 1 Axes>"
      ]
     },
     "metadata": {
      "needs_background": "light"
     },
     "output_type": "display_data"
    }
   ],
   "source": [
    "# mlrRecommendation(data, 5, 3, 5)"
   ]
  },
  {
   "cell_type": "code",
   "execution_count": 52,
   "metadata": {},
   "outputs": [],
   "source": [
    "# trainTestSplit(data, 0.6)[1].head() #sanity check"
   ]
  },
  {
   "cell_type": "code",
   "execution_count": 53,
   "metadata": {},
   "outputs": [],
   "source": [
    "# RNNs/LSTM learning sources: \n",
    "# https://www.youtube.com/watch?v=BSpXCRTOLJA\n"
   ]
  },
  {
   "cell_type": "code",
   "execution_count": null,
   "metadata": {},
   "outputs": [],
   "source": []
  },
  {
   "cell_type": "code",
   "execution_count": null,
   "metadata": {},
   "outputs": [],
   "source": []
  },
  {
   "cell_type": "code",
   "execution_count": null,
   "metadata": {},
   "outputs": [],
   "source": []
  },
  {
   "cell_type": "code",
   "execution_count": null,
   "metadata": {},
   "outputs": [],
   "source": []
  },
  {
   "cell_type": "code",
   "execution_count": null,
   "metadata": {},
   "outputs": [],
   "source": []
  },
  {
   "cell_type": "code",
   "execution_count": null,
   "metadata": {},
   "outputs": [],
   "source": []
  },
  {
   "cell_type": "code",
   "execution_count": null,
   "metadata": {},
   "outputs": [],
   "source": []
  }
 ],
 "metadata": {
  "kernelspec": {
   "display_name": "Python 3",
   "language": "python",
   "name": "python3"
  },
  "language_info": {
   "codemirror_mode": {
    "name": "ipython",
    "version": 3
   },
   "file_extension": ".py",
   "mimetype": "text/x-python",
   "name": "python",
   "nbconvert_exporter": "python",
   "pygments_lexer": "ipython3",
   "version": "3.7.3"
  }
 },
 "nbformat": 4,
 "nbformat_minor": 2
}
